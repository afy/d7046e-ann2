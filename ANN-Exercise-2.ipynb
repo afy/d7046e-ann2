{
 "cells": [
  {
   "cell_type": "markdown",
   "metadata": {},
   "source": [
    "# Welcome to NNLM Exercise ANN2\n",
    "\n",
    "This exercise is split into three parts:\n",
    "- In part 1, you will learn the fundamentals of RNNs\n",
    "- In part 2, you will implement a basic RNN yourselves using numpy\n",
    "- In part 3, you will implement an LSTM using pytorch\n",
    "\n",
    "In this exercise you'll explore recurrent neural networks (RNNs), and some basic natural language processing (NLP). More specifically, your task will be to design an RNN from scratch using only numpy, similar to task 3 in ANN1. The goal of this network is to predict the correct next character given a sequence of characters. This is a simplified version of [causal language modelling](https://huggingface.co/docs/transformers/tasks/language_modeling), which is the main objective that is used to train large language models such as the [GPT series](http://jalammar.github.io/illustrated-gpt2/).\n",
    "\n",
    "## Reading material\n",
    "Before doing this exercise, please study the ANN2 module in Canvas and read Chapter 10 in the Deep Learning book, especially 10.2.2. If you want to learn more details about RNNs, we recommend [Andrej Karpathy's blog post](http://karpathy.github.io/2015/05/21/rnn-effectiveness/) and [this lecture](https://www.youtube.com/watch?v=0LixFSa7yts) and [this lecture](https://www.youtube.com/watch?v=6niqTuYFZLQ)."
   ]
  },
  {
   "cell_type": "markdown",
   "metadata": {},
   "source": [
    "# Part 1 - RNN theory\n",
    "## What is an RNN?\n",
    "An RNN is a neural network just like the network you designed in ANN1, but with two important distinctions:\n",
    "1) It iteratively produces outputs based on both inputs and previous (recurrent) outputs using shared parameters across time steps\n",
    "2) It employs a \"hidden state\" that is iteratively computed and updated in each forward pass (the hidden state is not a trainable parameter)\n",
    "\n",
    "### Sequence to sequence data\n",
    "RNNs are used mainly for sequential data, i.e. data arranged in sequences where order matters. Typically, this is either time series data, such as weather forecasts or stock markets, or in NLP due to the sequential nature of language. The sequence-to-sequence (seq2seq) image below showcases a comprehensive example of ways sequential data can flow through an RNN.\n",
    "\n",
    "![Seq2seq](http://karpathy.github.io/assets/rnn/diags.jpeg)\n",
    "\n",
    "The leftmost rectangle is a normal feedforward network without RNNs, e.g. your digit predictor from ANN1. <br>\n",
    "The \"one to many\" rectangle takes one input (non-sequential) and produces a sequence of output, e.g. image captioning which takes one image and produces a sequence of text in response. <br>\n",
    "\"many to one\" is the opposite of image captioning, and can be for instance image generatino, where a sequence of text is processed to produce one image. A simpler example is language classification tasks such as sentiment analysis. <br>\n",
    "Finally, there are two examples of \"many to many\". The first example reads the entire input before producing an output, commonly seen in machine translation, where the model reads the whole text in one language to produce a hidden state that represents the latent meaning of the text, then decodes the hidden state to the translated language. The other example of many to many is synced, where each input requires one output in response, such as video frame classification."
   ]
  },
  {
   "cell_type": "markdown",
   "metadata": {},
   "source": [
    "**Exercise**: Briefly describe two major challenges and drawbacks with running a standard feed forward ANN (like the one from ANN1) on sequential data"
   ]
  },
  {
   "cell_type": "markdown",
   "metadata": {},
   "source": [
    "Write your answer here:\n"
   ]
  },
  {
   "cell_type": "markdown",
   "metadata": {},
   "source": [
    "When using ANN on sequential data, two main challenges arise. Firstly, feedforward ANNs lack memory, meaning they don't retain information about previous inputs, which is crucial for understanding sequential data like language or time series. Secondly, these networks require fixed-size input vectors, which doesn't align well with the variable-length nature of sequential data. As a result, feedforward ANNs struggle to capture temporal dependencies and effectively process sequences, highlighting the need for specialized architectures like RNNs designed to address these challenges."
   ]
  },
  {
   "cell_type": "markdown",
   "metadata": {},
   "source": [
    "## RNN structure\n",
    "\n",
    "![rnn-unroll image](https://upload.wikimedia.org/wikipedia/commons/b/b5/Recurrent_neural_network_unfold.svg)\n",
    "\n",
    "The above image explains the basics of an RNN quite well. Looking at the time-unfolded representation to the right, you'll see how the time-sequential data $x$ is transformed to the outputs $o$. The trainable parameters, the weight matrices in the network that you're building, consist of $U$, $V$, and $W$, where \n",
    "\n",
    "\n",
    "- $U$ defines the connections between the input sample $x_t$ and the current hidden state $h_t$\n",
    "- $V$ defines the connections between the previous hidden state $h_{t-1}$ and $h_t$, and \n",
    "- $W$ defines the connections between the hidden state $h_t$ and the output $o_t$.\n",
    "\n",
    "\n",
    "Note that, as per the seq2seq image above, all parameters are not always used in every time step."
   ]
  },
  {
   "cell_type": "markdown",
   "metadata": {},
   "source": [
    "This network can thus be represented mathematically as follows:\n",
    "\\begin{equation*}\n",
    "h_t = f(U\\,{x_t} + V\\,{h_{t-1}})\n",
    "\\tag{1}\n",
    "\\end{equation*}\n",
    "\n",
    "\\begin{equation*}\n",
    "o_t = \\mathrm{softmax}(W\\,{h_t})\n",
    "\\tag{2}\n",
    "\\end{equation*}\n"
   ]
  },
  {
   "cell_type": "markdown",
   "metadata": {},
   "source": [
    "### A forward pass through an RNN\n",
    "- Let's start at $t = 0$ and take two steps through this netowrk. <br>\n",
    "- Initialise the hidden state h_init with zeros or randomly, $dims: [hidden\\_size, 1]$. <br>\n",
    "- Also initialise the parameters $U$, $V$, and $W$, again with zeros or randomly, since our network is not trained yet.\n",
    "  - $U$ transforms the input to a hidden state contribution $input\\_dim \\rightarrow hidden\\_size$.\n",
    "  - $V$ updates the hidden state $hidden\\_size \\rightarrow hidden\\_size$.\n",
    "  - $W$ transforms the hidden state to the output $hidden\\_size \\rightarrow output\\_dim$. <br>\n",
    "- First, compute the hidden state $h_0$ as a function of $x_0*U$ and $h_{init} * V$. <br>\n",
    "- Then, compute $o_0$ as a function of $h_0$ and $W$. <br>\n",
    "- Then, for the next time step, compute $h_1$ as a function of $x_1*U$ and $h_0*V$. <br>\n",
    "- Finally, compute $o_1$ based on $h_1*W$.<br>\n",
    "- Note that the parameters $U$, $V$ and $W$ remain the same for each iteration. This is because the passing of the sequential data through the same network, as seen to the left of the image, which can be conceptualised as a network with shared weights, as in the right image. <br>\n",
    "- Important: the hidden state $h$ is not learned, but produced during the recurrence. The weights to update the hidden state are learned however."
   ]
  },
  {
   "cell_type": "markdown",
   "metadata": {},
   "source": [
    "## How to train RNNs?\n",
    "\n",
    "Well, you have to backpropagate through time, which thankfully is not as complicated as it sounds. <br>\n",
    "The final loss between output $o_N$ and label $y_N$ will be a function not only of $x_N$, but of $h_N$. But $h_N$ is a function of $x_{N-1}$ and $h_{N-1}$, which is a function of ... <br>\n",
    "You get the point, the longer the sequence in our network, the longer you have to roll back. <br>\n",
    "\n",
    "### How to backpropagate through time?\n",
    "\n",
    "It's not actually that much different compared to ANN1 if you do it step by step. Starting with the last output, $o_N$ in this case, compute the loss. Then backpropagate from loss to $o_N$, i.e. the derivate of the loss function. Then it is simple to calculate the contribution of $W$ to this loss, i.e. $dL/dW$. This is the contribution of $o_N$ to $W_{grad}$. Save this, but don't update yet! <br>\n",
    "Next, backpropagate into $h_N$, similar to backpropagating into the activation function of $w_1$ in ANN1. Compute $dL/dh_N$, then also backprop through the activation function, as in ANN1. <br>\n",
    "Think of these two steps as going backwards from the last output through $W$ to the last hidden state in the image above. \n",
    "\n",
    "Now, you're inside the hidden state, and you have to backprop in two directions. First, compute $dL/dU$, i.e. follow the $U$ arrow back to the input. <br>\n",
    "Then, compute $dL/dV$, i.e. the contribution of the V parameter to the loss, following the arrow back towards the previous hidden state. Howver, you're not quite done yet, as you also want to compute the contribution of the previous hidden state to the loss, i.e. $dL/dh_{prev}$. Save this for next iteration. <br>\n",
    "Take one time step back, and repeat the process, until you're at $t_0$. <br>\n",
    "\n",
    "### But how does this process take time into account?\n",
    "\n",
    "Note the last derivate you computed, $dL/dh_{prev}$. By solving the partial derivatives you'll find that when computing $dL/dh_{N}$, you relied on the \"fake\" hidden state not yet computed, $dL/dh_{prev}$, which you should initialise to zeros for the first (i.e. last) time step in the backprop. When you compute $dL/dh_{N-1}$ coming from $o_{N-1}$ and $W$, you must include $dL/dh_{prev}$, which this time won't be zero, and corresponds to the backwards movement through time."
   ]
  },
  {
   "cell_type": "markdown",
   "metadata": {},
   "source": [
    "# Part 2 - Implementing an RNN\n"
   ]
  },
  {
   "cell_type": "markdown",
   "metadata": {},
   "source": [
    "##  Import packages\n",
    "First, import some packages. We've put all support functions in another file to make the main notebook more readable. If you're interested in how data is loaded and processed, and some very basic NLP, feel free to have a look in the ANN2_support_functions.py file."
   ]
  },
  {
   "cell_type": "code",
   "execution_count": 132,
   "metadata": {},
   "outputs": [],
   "source": [
    "import numpy as np\n",
    "\n",
    "import ANN2_support_functions\n",
    "from importlib import reload\n",
    "reload(ANN2_support_functions)\n",
    "from ANN2_support_functions import set_up_datasets, init_orthogonal, one_hot_encode, one_hot_encode_sequence, sequences_to_dicts, set_up_sequences, clip_gradient_norm"
   ]
  },
  {
   "cell_type": "markdown",
   "metadata": {},
   "source": [
    "## Set up data\n",
    "Let's load the data from the support functions. You'll be using two datasets for this task. First, a \"toy\" dataset with simple generated sequences. The function returns four variables: <br>\n",
    "sequence, which is a list of sequences of characters. The sequences have varying length. <br>\n",
    "char_to_idx, a dict that converts a character to an index. <br>\n",
    "idx_to_char, a dict that converts an index to a character. <br>\n",
    "num_sequences, the number of the sequences"
   ]
  },
  {
   "cell_type": "code",
   "execution_count": 133,
   "metadata": {},
   "outputs": [
    {
     "name": "stdout",
     "output_type": "stream",
     "text": [
      "A sentence from the generated dataset:\n",
      "['a', 'a', 'a', 'a', 'a', 'a', 'a', 'b', 'b', 'b', 'b', 'b', 'b', 'b', 'EOS']\n",
      "There are 100 sentences and 4 unique tokens in our dataset (including UNK).\n",
      "\n",
      "The index of 'b' is 1\n",
      "The char corresponding to index 1 is 'b'\n",
      "We have 80 samples in the training set.\n",
      "We have 10 samples in the validation set.\n",
      "We have 10 samples in the test set.\n"
     ]
    }
   ],
   "source": [
    "sequences, char_to_idx, idx_to_char, num_sequences, vocab_size = set_up_sequences('toy')\n",
    "print('A sentence from the generated dataset:')\n",
    "print(sequences[0])\n",
    "\n",
    "print(f'There are {num_sequences} sentences and {len(char_to_idx)} unique tokens in our dataset (including UNK).\\n')\n",
    "print('The index of \\'b\\' is', char_to_idx['b'])\n",
    "print(f'The char corresponding to index 1 is \\'{idx_to_char[1]}\\'')\n",
    "\n",
    "training_set, validation_set, test_set = set_up_datasets(sequences)"
   ]
  },
  {
   "cell_type": "markdown",
   "metadata": {},
   "source": [
    "## Initialising the network\n",
    "Recall the RNN structure from part 1 and use this knowledge to finish the code for network initialisation.\n",
    "\n",
    "**Exercise**: Finish the init_network function below to set up the trainable parameters"
   ]
  },
  {
   "cell_type": "code",
   "execution_count": 134,
   "metadata": {},
   "outputs": [],
   "source": [
    "def init_network(hidden_size, vocab_size):\n",
    "    \"\"\"\n",
    "    Initialises the RNN parameters\n",
    "    \n",
    "    Args:\n",
    "    `hidden_size`: the dimensions of the hidden state\n",
    "    `vocab_size`: the dimensions of our vocabulary\n",
    "    \"\"\"\n",
    "    # Weight matrix (input to hidden state)\n",
    "    U = np.zeros((hidden_size, vocab_size))\n",
    "\n",
    "    # Weight matrix (recurrent computation)\n",
    "    V = np.zeros((hidden_size, hidden_size))\n",
    "\n",
    "    # Weight matrix (hidden state to output)\n",
    "    W = np.zeros((vocab_size, hidden_size))\n",
    "\n",
    "    # Bias (hidden state)\n",
    "    b_hidden = np.zeros((hidden_size, 1))\n",
    "\n",
    "    # Bias (output)\n",
    "    b_out = np.zeros((vocab_size, 1))\n",
    "\n",
    "    # Initialize weights using orthogonal initialization\n",
    "    U = init_orthogonal(U)\n",
    "    V = init_orthogonal(V)\n",
    "    W = init_orthogonal(W)\n",
    "\n",
    "    parameters = U, V, W, b_hidden, b_out\n",
    "\n",
    "    return parameters"
   ]
  },
  {
   "cell_type": "code",
   "execution_count": 135,
   "metadata": {},
   "outputs": [],
   "source": [
    "# Checking the init runs\n",
    "\n",
    "hidden_size = 50 # Number of dimensions in the hidden state\n",
    "vocab_size  = vocab_size # Size of the vocabulary used\n",
    "\n",
    "parameters = init_network(hidden_size=hidden_size, vocab_size=vocab_size)\n"
   ]
  },
  {
   "cell_type": "markdown",
   "metadata": {},
   "source": [
    "## The forward pass\n",
    "Here you will implement the forward pass. You'll be using tanh as the activation function for the hidden state update (eq. 1), and softmax as the activation function for the output (eq. 2)."
   ]
  },
  {
   "cell_type": "code",
   "execution_count": 136,
   "metadata": {},
   "outputs": [],
   "source": [
    "def tanh(x, derivative=False):\n",
    "    \"\"\"\n",
    "    Computes the element-wise tanh activation function for an array x.\n",
    "\n",
    "    Args:\n",
    "     `x`: the array where the function is applied\n",
    "     `derivative`: if set to True will return the derivative instead of the forward pass\n",
    "    \"\"\"\n",
    "    # Avoid division with zeros\n",
    "    x = x + 1e-12\n",
    "    # The tanh function\n",
    "    a_x = (np.exp(x)-np.exp(-x))/(np.exp(x)+np.exp(-x))\n",
    "    \n",
    "    if derivative: # Return the derivative of the function evaluated at x\n",
    "        return 1-a_x**2\n",
    "    else: # Return the forward pass of the function at x\n",
    "        return a_x\n",
    "    \n",
    "def softmax(x):\n",
    "    \"\"\"\n",
    "    Computes the softmax for an array x.\n",
    "    \n",
    "    Args:\n",
    "     `x`: the array where the function is applied\n",
    "    \"\"\"\n",
    "    # Avoid division with zeros\n",
    "    x = x + 1e-12\n",
    "    # The softmax function\n",
    "    a_x = np.exp(x) / np.sum(np.exp(x))\n",
    "    return a_x"
   ]
  },
  {
   "cell_type": "markdown",
   "metadata": {},
   "source": [
    "**Exercise:** Finish the code for the forward pass"
   ]
  },
  {
   "cell_type": "code",
   "execution_count": 137,
   "metadata": {},
   "outputs": [],
   "source": [
    "def forward_pass(inputs, hidden_state, parameters):\n",
    "    \"\"\"\n",
    "    Computes the forward pass of a vanilla RNN.\n",
    "    \n",
    "    Args:\n",
    "    `inputs`: sequence of inputs to be processed\n",
    "    `hidden_state`: an already initialized hidden state\n",
    "    `parameters`: the parameters of the RNN\n",
    "    \"\"\"\n",
    "    # First unpack parameters\n",
    "    U, V, W, b_hidden, b_out = parameters\n",
    "    \n",
    "    # Create a list to store outputs and hidden states\n",
    "    outputs, hidden_states = [], []\n",
    "    \n",
    "    # For each element in input sequence\n",
    "    for t in range(len(inputs)):\n",
    "\n",
    "        # Compute new hidden state\n",
    "        # Hint: look at eq. 1\n",
    "        # tanh( U*xt  + V*h(t-1) )\n",
    "        # TODO:\n",
    "\n",
    "\n",
    "        v1 = np.dot(U, inputs[t])\n",
    "        v2 = np.dot(V, hidden_state)\n",
    "        hidden_state = tanh( v1 + v2 + b_hidden ) \n",
    "\n",
    "        # Compute output\n",
    "        # Hint: Look at eq. 2\n",
    "        # TODO:\n",
    "        v3 = np.dot(W, hidden_state)\n",
    "        out = softmax( v3 + b_out )\n",
    "        \n",
    "        # Save results and continue\n",
    "        outputs.append(out)\n",
    "        hidden_states.append(hidden_state.copy())\n",
    "    \n",
    "    return outputs, hidden_states"
   ]
  },
  {
   "cell_type": "code",
   "execution_count": 138,
   "metadata": {},
   "outputs": [
    {
     "name": "stdout",
     "output_type": "stream",
     "text": [
      "Input sequence:\n",
      "['a', 'a', 'a', 'a', 'a', 'a', 'a', 'b', 'b', 'b', 'b', 'b', 'b', 'b']\n",
      "\n",
      "Target sequence:\n",
      "['a', 'a', 'a', 'a', 'a', 'a', 'b', 'b', 'b', 'b', 'b', 'b', 'b', 'EOS']\n",
      "\n",
      "Predicted sequence:\n",
      "['UNK', 'UNK', 'UNK', 'b', 'a', 'a', 'a', 'a', 'a', 'a', 'a', 'EOS', 'EOS', 'b']\n"
     ]
    }
   ],
   "source": [
    "# Checking the forward pass\n",
    "\n",
    "# Get first sequence in training set\n",
    "test_input_sequence, test_target_sequence = training_set[0]\n",
    "\n",
    "# One-hot encode input and target sequence\n",
    "test_input = one_hot_encode_sequence(test_input_sequence, vocab_size, char_to_idx)\n",
    "test_target = one_hot_encode_sequence(test_target_sequence, vocab_size, char_to_idx)\n",
    "\n",
    "# Initialize hidden state as zeros\n",
    "hidden_state = np.zeros((hidden_size, 1))\n",
    "\n",
    "# Now let's try out our new function\n",
    "outputs, hidden_states = forward_pass(test_input, hidden_state, parameters)\n",
    "\n",
    "print('Input sequence:')\n",
    "print(test_input_sequence)\n",
    "\n",
    "print('\\nTarget sequence:')\n",
    "print(test_target_sequence)\n",
    "\n",
    "print('\\nPredicted sequence:')\n",
    "print([idx_to_char[np.argmax(output)] for output in outputs])"
   ]
  },
  {
   "cell_type": "markdown",
   "metadata": {},
   "source": [
    "## The backward pass\n",
    "**Exercise:** Finish the code for the backward pass"
   ]
  },
  {
   "cell_type": "code",
   "execution_count": 139,
   "metadata": {},
   "outputs": [],
   "source": [
    "def backward_pass(inputs, outputs, hidden_states, targets, parameters):\n",
    "    \"\"\"\n",
    "    Computes the backward pass of a vanilla RNN.\n",
    "    \n",
    "    Args:\n",
    "     `inputs`: sequence of inputs to be processed\n",
    "     `outputs`: sequence of outputs from the forward pass\n",
    "     `hidden_states`: sequence of hidden_states from the forward pass\n",
    "     `targets`: sequence of targets\n",
    "     `params`: the parameters of the RNN\n",
    "    \"\"\"\n",
    "    # First unpack parameters\n",
    "    U, V, W, b_hidden, b_out = parameters\n",
    "    \n",
    "    # Initialize gradients as zero\n",
    "    d_U, d_V, d_W = np.zeros_like(U), np.zeros_like(V), np.zeros_like(W)\n",
    "    d_b_hidden, d_b_out = np.zeros_like(b_hidden), np.zeros_like(b_out)\n",
    "    \n",
    "    # Keep track of hidden state derivative and loss\n",
    "    d_h_prev = np.zeros_like(hidden_states[0])\n",
    "    loss = 0\n",
    "    \n",
    "    # For each element in output sequence\n",
    "    # iterate backwards over t -> t = N, N-1, ... 1, 0\n",
    "    for t in reversed(range(len(outputs))):\n",
    "\n",
    "        # Compute cross-entropy loss\n",
    "        loss += -np.mean(np.log(outputs[t]+1e-12) * targets[t])\n",
    "        \n",
    "        # Backpropagate into output (derivative of cross-entropy and softmax)\n",
    "        d_o = outputs[t].copy()\n",
    "        d_o[np.argmax(targets[t])] -= 1\n",
    "        \n",
    "        # Backpropagate into W\n",
    "        d_W += np.dot(d_o, hidden_states[t].T)\n",
    "        \n",
    "        # Backpropagate into bias\n",
    "        d_b_out += d_o\n",
    "        \n",
    "        # Backpropagate into h\n",
    "        d_h = np.dot(W.T, d_o) + d_h_prev\n",
    "        \n",
    "        # Backpropagate through the activation function\n",
    "        d_a = tanh(hidden_states[t], derivative=True) * d_h\n",
    "\n",
    "        # Backpropagate into bias\n",
    "        d_b_hidden += d_a\n",
    "        \n",
    "        # Backpropagate into U\n",
    "        d_U += np.dot(d_a, inputs[t].T)\n",
    "        \n",
    "        # Backpropagate into V\n",
    "        d_V += np.dot(d_a, hidden_states[t-1].T) if t > 0 else np.zeros_like(V)\n",
    "\n",
    "        # Backpropagate into previous hidden state\n",
    "        d_h_prev = np.dot(V.T, d_a)\n",
    "    \n",
    "    # Pack gradients\n",
    "    grads = d_U, d_V, d_W, d_b_hidden, d_b_out    \n",
    "    \n",
    "    # Clip gradients to prevent explosions\n",
    "    grads = clip_gradient_norm(grads)\n",
    "    \n",
    "    return loss, grads"
   ]
  },
  {
   "cell_type": "code",
   "execution_count": 140,
   "metadata": {},
   "outputs": [
    {
     "name": "stdout",
     "output_type": "stream",
     "text": [
      "We get a loss of:\n",
      "loss 4.553408581307238\n"
     ]
    }
   ],
   "source": [
    "# Checking the backwards pass\n",
    "\n",
    "# Perform a backward pass\n",
    "loss, gradients = backward_pass(test_input, outputs, hidden_states, test_target, parameters)\n",
    "\n",
    "print('We get a loss of:')\n",
    "print(\"loss\", loss)"
   ]
  },
  {
   "cell_type": "markdown",
   "metadata": {},
   "source": [
    "## The optimisation algorithm\n",
    "**Exercise:** Finish the code for gradient descent"
   ]
  },
  {
   "cell_type": "code",
   "execution_count": 141,
   "metadata": {},
   "outputs": [],
   "source": [
    "def gradient_descent(parameters, gradients, lr=1e-3):\n",
    "    # Take a step\n",
    "    updated_params = []\n",
    "    for parameter, gradient in zip(parameters, gradients):\n",
    "        parameter -= lr * gradient # Update parameter using gradient descent\n",
    "        updated_params.append(parameter)\n",
    "    return updated_params"
   ]
  },
  {
   "cell_type": "code",
   "execution_count": 142,
   "metadata": {},
   "outputs": [
    {
     "name": "stdout",
     "output_type": "stream",
     "text": [
      "parameters seem to update during backprop\n"
     ]
    }
   ],
   "source": [
    "# Check that our gradient descent works\n",
    "# Ignore all the arcane unrolling of lists. All this function does is to check that your update function actually changes the parameters\n",
    "\n",
    "# Copy old parameters so we can check that they've updated\n",
    "prev_parameters = [parameter.copy() for parameter in parameters]\n",
    "\n",
    "# Use computed gradients to update parameters\n",
    "parameters = gradient_descent(parameters, gradients, lr=3e-4)\n",
    "\n",
    "# Check that parameters have updated\n",
    "parameters_delta = [parameter - prev_parameter for parameter, prev_parameter in zip(parameters, prev_parameters)]\n",
    "\n",
    "assert all([parameter.any() for parameter in parameters_delta]), \"parameters have not updated\"\n",
    "print(\"parameters seem to update during backprop\")\n"
   ]
  },
  {
   "cell_type": "markdown",
   "metadata": {},
   "source": [
    "## Training the network\n",
    "**Exercise:** Implement all individual steps together to loop over the dataset. Train until you have a loss under 2 or an accuracy over 50%."
   ]
  },
  {
   "cell_type": "code",
   "execution_count": 143,
   "metadata": {},
   "outputs": [
    {
     "name": "stdout",
     "output_type": "stream",
     "text": [
      "Epoch 0, training loss: 3.6848303731947474, validation loss: 3.7253638510366778 (3.7253638510366778)\n"
     ]
    },
    {
     "ename": "KeyboardInterrupt",
     "evalue": "",
     "output_type": "error",
     "traceback": [
      "\u001b[1;31m---------------------------------------------------------------------------\u001b[0m",
      "\u001b[1;31mKeyboardInterrupt\u001b[0m                         Traceback (most recent call last)",
      "Cell \u001b[1;32mIn[143], line 70\u001b[0m\n\u001b[0;32m     67\u001b[0m outputs, hidden_states \u001b[38;5;241m=\u001b[39m forward_pass(inputs_one_hot, hidden_state, parameters)\n\u001b[0;32m     69\u001b[0m \u001b[38;5;66;03m# Backward pass\u001b[39;00m\n\u001b[1;32m---> 70\u001b[0m loss, gradients \u001b[38;5;241m=\u001b[39m \u001b[43mbackward_pass\u001b[49m\u001b[43m(\u001b[49m\u001b[43minputs_one_hot\u001b[49m\u001b[43m,\u001b[49m\u001b[43m \u001b[49m\u001b[43moutputs\u001b[49m\u001b[43m,\u001b[49m\u001b[43m \u001b[49m\u001b[43mhidden_states\u001b[49m\u001b[43m,\u001b[49m\u001b[43m \u001b[49m\u001b[43mtargets_one_hot\u001b[49m\u001b[43m,\u001b[49m\u001b[43m \u001b[49m\u001b[43mparameters\u001b[49m\u001b[43m)\u001b[49m\n\u001b[0;32m     72\u001b[0m \u001b[38;5;28;01mif\u001b[39;00m np\u001b[38;5;241m.\u001b[39misnan(loss):\n\u001b[0;32m     73\u001b[0m     \u001b[38;5;28;01mraise\u001b[39;00m \u001b[38;5;167;01mValueError\u001b[39;00m(\u001b[38;5;124m'\u001b[39m\u001b[38;5;124mGradients have vanished!\u001b[39m\u001b[38;5;124m'\u001b[39m)\n",
      "Cell \u001b[1;32mIn[139], line 31\u001b[0m, in \u001b[0;36mbackward_pass\u001b[1;34m(inputs, outputs, hidden_states, targets, parameters)\u001b[0m\n\u001b[0;32m     28\u001b[0m loss \u001b[38;5;241m+\u001b[39m\u001b[38;5;241m=\u001b[39m \u001b[38;5;241m-\u001b[39mnp\u001b[38;5;241m.\u001b[39mmean(np\u001b[38;5;241m.\u001b[39mlog(outputs[t]\u001b[38;5;241m+\u001b[39m\u001b[38;5;241m1e-12\u001b[39m) \u001b[38;5;241m*\u001b[39m targets[t])\n\u001b[0;32m     30\u001b[0m \u001b[38;5;66;03m# Backpropagate into output (derivative of cross-entropy and softmax)\u001b[39;00m\n\u001b[1;32m---> 31\u001b[0m d_o \u001b[38;5;241m=\u001b[39m outputs[t]\u001b[38;5;241m.\u001b[39mcopy()\n\u001b[0;32m     32\u001b[0m d_o[np\u001b[38;5;241m.\u001b[39margmax(targets[t])] \u001b[38;5;241m-\u001b[39m\u001b[38;5;241m=\u001b[39m \u001b[38;5;241m1\u001b[39m\n\u001b[0;32m     34\u001b[0m \u001b[38;5;66;03m# Backpropagate into W\u001b[39;00m\n",
      "\u001b[1;31mKeyboardInterrupt\u001b[0m: "
     ]
    }
   ],
   "source": [
    "import matplotlib.pyplot as plt\n",
    "%matplotlib inline\n",
    "\n",
    "# Hyper-parameters\n",
    "num_epochs = 5000\n",
    "hidden_size = 50\n",
    "\n",
    "# Initialize a new network\n",
    "parameters = init_network(hidden_size=hidden_size, vocab_size=vocab_size)\n",
    "\n",
    "# Initialize hidden state as zeros\n",
    "hidden_state = np.zeros((hidden_size, 1))\n",
    "\n",
    "# Track loss\n",
    "training_loss, validation_loss = [], []\n",
    "\n",
    "# Keep track of best validation loss\n",
    "min_loss = 10000\n",
    "\n",
    "def compute_loss(out, target):\n",
    "    loss = 0\n",
    "    for o, t in zip(out, target):\n",
    "        loss -= np.mean(np.log(o+1e-12) * t)\n",
    "    return loss\n",
    "\n",
    "# For each epoch\n",
    "for i in range(num_epochs):\n",
    "    \n",
    "    # Track loss\n",
    "    epoch_training_loss = 0\n",
    "    epoch_validation_loss = 0\n",
    "    \n",
    "    # For each sentence in validation set\n",
    "    for inputs, targets in validation_set:\n",
    "        \n",
    "        # One-hot encode input and target sequence\n",
    "        inputs_one_hot = one_hot_encode_sequence(inputs, vocab_size, char_to_idx)\n",
    "        targets_one_hot = one_hot_encode_sequence(targets, vocab_size, char_to_idx)\n",
    "        \n",
    "        # Re-initialize hidden state\n",
    "        hidden_state = np.zeros_like(hidden_state)\n",
    "\n",
    "        # Forward pass\n",
    "        outputs, _ = forward_pass(inputs_one_hot, hidden_state, parameters)\n",
    "        loss = compute_loss(outputs, targets_one_hot)\n",
    "        \n",
    "        # Update loss\n",
    "        epoch_validation_loss += loss\n",
    "\n",
    "    # If lowest val loss, save parameters of model\n",
    "    epoch_validation_loss /= len(validation_set)  \n",
    "    if epoch_validation_loss < min_loss:\n",
    "        min_loss = epoch_validation_loss \n",
    "        best_parameters = parameters\n",
    "    \n",
    "    # For each sentence in training set\n",
    "    for inputs, targets in training_set:\n",
    "        \n",
    "        # One-hot encode input and target sequence\n",
    "        inputs_one_hot = one_hot_encode_sequence(inputs, vocab_size, char_to_idx)\n",
    "        targets_one_hot = one_hot_encode_sequence(targets, vocab_size, char_to_idx)\n",
    "        \n",
    "        # Re-initialize hidden state\n",
    "        hidden_state = np.zeros_like(hidden_state)\n",
    "\n",
    "        # Forward pass\n",
    "        outputs, hidden_states = forward_pass(inputs_one_hot, hidden_state, parameters)\n",
    "\n",
    "        # Backward pass\n",
    "        loss, gradients = backward_pass(inputs_one_hot, outputs, hidden_states, targets_one_hot, parameters)\n",
    "\n",
    "        if np.isnan(loss):\n",
    "            raise ValueError('Gradients have vanished!')\n",
    "        \n",
    "        # Update parameters\n",
    "        parameters = gradient_descent(parameters, gradients, lr=1e-3)\n",
    "        \n",
    "        # Update loss\n",
    "        epoch_training_loss += loss\n",
    "        \n",
    "    # Save loss for plot\n",
    "    training_loss.append(epoch_training_loss/len(training_set))\n",
    "    validation_loss.append(epoch_validation_loss)\n",
    "\n",
    "    # Print loss every 100 epochs\n",
    "    if i % 50 == 0:\n",
    "        print(f'Epoch {i}, training loss: {training_loss[-1]}, validation loss: {validation_loss[-1]} ({min_loss})')\n",
    "\n",
    "parameters = best_parameters\n",
    "\n",
    "# Get first sentence in train set\n",
    "inputs, targets = training_set[0]\n",
    "\n",
    "# One-hot encode input and target sequence\n",
    "inputs_one_hot = one_hot_encode_sequence(inputs, vocab_size, char_to_idx)\n",
    "targets_one_hot = one_hot_encode_sequence(targets, vocab_size, char_to_idx)\n",
    "\n",
    "# Initialize hidden state as zeros\n",
    "hidden_state = np.zeros((hidden_size, 1))\n",
    "\n",
    "# Forward pass\n",
    "outputs, hidden_states = forward_pass(inputs_one_hot, hidden_state, parameters)\n",
    "\n",
    "output_sentence = [idx_to_char[np.argmax(output)] for output in outputs]\n",
    "print('Input sentence:')\n",
    "print(inputs)\n",
    "\n",
    "print('\\nTarget sequence:')\n",
    "print(targets)\n",
    "\n",
    "print('\\nPredicted sequence:')\n",
    "print([idx_to_char[np.argmax(output)] for output in outputs])\n",
    "\n",
    "# Plot training and validation loss\n",
    "epoch = np.arange(len(training_loss))\n",
    "plt.figure()\n",
    "plt.plot(epoch, training_loss, 'r', label='Training loss',)\n",
    "plt.plot(epoch, validation_loss, 'b', label='Validation loss')\n",
    "plt.legend()\n",
    "plt.xlabel('Epoch'), plt.ylabel('NLL')\n",
    "plt.show()"
   ]
  },
  {
   "cell_type": "code",
   "execution_count": null,
   "metadata": {},
   "outputs": [
    {
     "name": "stdout",
     "output_type": "stream",
     "text": [
      "Input sequence:\n",
      "['a', 'b']\n",
      "\n",
      "Target sequence:\n",
      "['b', 'EOS']\n",
      "\n",
      "Predicted sequence:\n",
      "['a', 'EOS']\n",
      "Input sequence:\n",
      "['a', 'a', 'a', 'a', 'a', 'a', 'a', 'b', 'b', 'b', 'b', 'b', 'b', 'b']\n",
      "\n",
      "Target sequence:\n",
      "['a', 'a', 'a', 'a', 'a', 'a', 'b', 'b', 'b', 'b', 'b', 'b', 'b', 'EOS']\n",
      "\n",
      "Predicted sequence:\n",
      "['a', 'a', 'a', 'a', 'a', 'a', 'b', 'b', 'b', 'b', 'b', 'b', 'b', 'EOS']\n",
      "Input sequence:\n",
      "['a', 'a', 'a', 'a', 'a', 'a', 'a', 'b', 'b', 'b', 'b', 'b', 'b', 'b']\n",
      "\n",
      "Target sequence:\n",
      "['a', 'a', 'a', 'a', 'a', 'a', 'b', 'b', 'b', 'b', 'b', 'b', 'b', 'EOS']\n",
      "\n",
      "Predicted sequence:\n",
      "['a', 'a', 'a', 'a', 'a', 'a', 'b', 'b', 'b', 'b', 'b', 'b', 'b', 'EOS']\n",
      "Input sequence:\n",
      "['a', 'a', 'a', 'a', 'a', 'a', 'a', 'a', 'b', 'b', 'b', 'b', 'b', 'b', 'b', 'b']\n",
      "\n",
      "Target sequence:\n",
      "['a', 'a', 'a', 'a', 'a', 'a', 'a', 'b', 'b', 'b', 'b', 'b', 'b', 'b', 'b', 'EOS']\n",
      "\n",
      "Predicted sequence:\n",
      "['a', 'a', 'a', 'a', 'a', 'a', 'b', 'b', 'b', 'b', 'b', 'b', 'b', 'b', 'b', 'EOS']\n",
      "Input sequence:\n",
      "['a', 'a', 'a', 'a', 'a', 'b', 'b', 'b', 'b', 'b']\n",
      "\n",
      "Target sequence:\n",
      "['a', 'a', 'a', 'a', 'b', 'b', 'b', 'b', 'b', 'EOS']\n",
      "\n",
      "Predicted sequence:\n",
      "['a', 'a', 'a', 'a', 'a', 'b', 'b', 'b', 'b', 'EOS']\n",
      "Input sequence:\n",
      "['a', 'a', 'a', 'b', 'b', 'b']\n",
      "\n",
      "Target sequence:\n",
      "['a', 'a', 'b', 'b', 'b', 'EOS']\n",
      "\n",
      "Predicted sequence:\n",
      "['a', 'a', 'a', 'b', 'b', 'EOS']\n",
      "Input sequence:\n",
      "['a', 'a', 'a', 'a', 'a', 'a', 'a', 'a', 'b', 'b', 'b', 'b', 'b', 'b', 'b', 'b']\n",
      "\n",
      "Target sequence:\n",
      "['a', 'a', 'a', 'a', 'a', 'a', 'a', 'b', 'b', 'b', 'b', 'b', 'b', 'b', 'b', 'EOS']\n",
      "\n",
      "Predicted sequence:\n",
      "['a', 'a', 'a', 'a', 'a', 'a', 'b', 'b', 'b', 'b', 'b', 'b', 'b', 'b', 'b', 'EOS']\n",
      "Input sequence:\n",
      "['a', 'a', 'a', 'a', 'a', 'a', 'b', 'b', 'b', 'b', 'b', 'b']\n",
      "\n",
      "Target sequence:\n",
      "['a', 'a', 'a', 'a', 'a', 'b', 'b', 'b', 'b', 'b', 'b', 'EOS']\n",
      "\n",
      "Predicted sequence:\n",
      "['a', 'a', 'a', 'a', 'a', 'a', 'b', 'b', 'b', 'b', 'b', 'EOS']\n",
      "Input sequence:\n",
      "['a', 'a', 'a', 'b', 'b', 'b']\n",
      "\n",
      "Target sequence:\n",
      "['a', 'a', 'b', 'b', 'b', 'EOS']\n",
      "\n",
      "Predicted sequence:\n",
      "['a', 'a', 'a', 'b', 'b', 'EOS']\n",
      "Input sequence:\n",
      "['a', 'b']\n",
      "\n",
      "Target sequence:\n",
      "['b', 'EOS']\n",
      "\n",
      "Predicted sequence:\n",
      "['a', 'EOS']\n",
      "Test accuracy is 50.0%.\n"
     ]
    }
   ],
   "source": [
    "# Testing your network\n",
    "\n",
    "# Get first sequence in testing set\n",
    "for test_input_sequence, test_target_sequence in test_set:\n",
    "    \n",
    "    # One-hot encode input and target sequence\n",
    "    test_input = one_hot_encode_sequence(test_input_sequence, vocab_size, char_to_idx)\n",
    "    test_target = one_hot_encode_sequence(test_target_sequence, vocab_size, char_to_idx)\n",
    "\n",
    "    # Initialize hidden state as zeros\n",
    "    hidden_state = np.zeros((hidden_size, 1))\n",
    "\n",
    "    # Forward pass\n",
    "    # TODO:\n",
    "    outputs, hidden_states = forward_pass(test_input, hidden_state, parameters)\n",
    "\n",
    "    print('Input sequence:')\n",
    "    print(test_input_sequence)\n",
    "\n",
    "    print('\\nTarget sequence:')\n",
    "    print(test_target_sequence)\n",
    "\n",
    "    preds = [idx_to_char[np.argmax(output)] for output in outputs]\n",
    "    print('\\nPredicted sequence:')\n",
    "    print(preds)\n",
    "\n",
    "    accuracy = 0\n",
    "    for target, pred in zip(test_target_sequence, preds):\n",
    "        accuracy += target == pred\n",
    "    accuracy /= len(test_target_sequence)/100\n",
    "\n",
    "print(f\"Test accuracy is {np.round(accuracy)}%.\") "
   ]
  },
  {
   "cell_type": "markdown",
   "metadata": {},
   "source": [
    "## Trying a more complex task\n",
    "The you dataset is an extremely simple set of characters to predict. Now, let's try using a more complicated dataset. The code below imports data from a collection of Shakespeare's plays and turns it into sequences of characters. Try running your network on this data and see if it works.\n",
    "\n",
    "**Exercise:** Paste and run your training and testing on the Shakespeare dataset. You don't have to achieve any specific loss or accuracy. Does it work? Please speculate on why/why not."
   ]
  },
  {
   "cell_type": "markdown",
   "metadata": {},
   "source": [
    "Your answer here:"
   ]
  },
  {
   "cell_type": "code",
   "execution_count": null,
   "metadata": {},
   "outputs": [
    {
     "name": "stdout",
     "output_type": "stream",
     "text": [
      "A sentence from the Shakespeare dataset:\n",
      "We have 80 samples in the training set.\n",
      "We have 10 samples in the validation set.\n",
      "We have 10 samples in the test set.\n",
      "36\n"
     ]
    }
   ],
   "source": [
    "sequences, char_to_idx, idx_to_char, num_sequences, vocab_size = set_up_sequences()\n",
    "\n",
    "num_sequences = len(sequences)\n",
    "#vocab_size = len(np.unique(sequences))\n",
    "print('A sentence from the Shakespeare dataset:')\n",
    "\n",
    "# Whole dataset is too big to effectively train on, so let's start by grabbing the first 100 sequences\n",
    "sequences = sequences[0:100]\n",
    "training_set, validation_set, test_set = set_up_datasets(sequences)"
   ]
  },
  {
   "cell_type": "markdown",
   "metadata": {},
   "source": [
    "**Exercise:** Your code for training and testing here"
   ]
  },
  {
   "cell_type": "code",
   "execution_count": null,
   "metadata": {},
   "outputs": [
    {
     "name": "stdout",
     "output_type": "stream",
     "text": [
      "Epoch 0, training loss: 11.742057985146294, validation loss: 11.324533815575355 (11.324533815575355)\n",
      "Epoch 10, training loss: 11.563961061698325, validation loss: 11.145824722107637 (11.145824722107637)\n",
      "Epoch 20, training loss: 11.375616415772036, validation loss: 10.956532942808577 (10.956532942808577)\n",
      "Epoch 30, training loss: 11.119188818347261, validation loss: 10.691115585947538 (10.691115585947538)\n"
     ]
    },
    {
     "ename": "KeyboardInterrupt",
     "evalue": "",
     "output_type": "error",
     "traceback": [
      "\u001b[1;31m---------------------------------------------------------------------------\u001b[0m",
      "\u001b[1;31mKeyboardInterrupt\u001b[0m                         Traceback (most recent call last)",
      "Cell \u001b[1;32mIn[131], line 33\u001b[0m\n\u001b[0;32m     30\u001b[0m targets_one_hot \u001b[38;5;241m=\u001b[39m one_hot_encode_sequence(targets, vocab_size, char_to_idx)\n\u001b[0;32m     32\u001b[0m hidden_state \u001b[38;5;241m=\u001b[39m np\u001b[38;5;241m.\u001b[39mzeros_like(hidden_state)\n\u001b[1;32m---> 33\u001b[0m outputs, hidden_states \u001b[38;5;241m=\u001b[39m \u001b[43mforward_pass\u001b[49m\u001b[43m(\u001b[49m\u001b[43minputs_one_hot\u001b[49m\u001b[43m,\u001b[49m\u001b[43m \u001b[49m\u001b[43mhidden_state\u001b[49m\u001b[43m,\u001b[49m\u001b[43m \u001b[49m\u001b[43mparameters\u001b[49m\u001b[43m)\u001b[49m\n\u001b[0;32m     34\u001b[0m loss, gradients \u001b[38;5;241m=\u001b[39m backward_pass(inputs_one_hot, outputs, hidden_states, targets_one_hot, parameters)\n\u001b[0;32m     36\u001b[0m \u001b[38;5;28;01mif\u001b[39;00m np\u001b[38;5;241m.\u001b[39misnan(loss):\n",
      "Cell \u001b[1;32mIn[112], line 25\u001b[0m, in \u001b[0;36mforward_pass\u001b[1;34m(inputs, hidden_state, parameters)\u001b[0m\n\u001b[0;32m     16\u001b[0m \u001b[38;5;66;03m# For each element in input sequence\u001b[39;00m\n\u001b[0;32m     17\u001b[0m \u001b[38;5;28;01mfor\u001b[39;00m t \u001b[38;5;129;01min\u001b[39;00m \u001b[38;5;28mrange\u001b[39m(\u001b[38;5;28mlen\u001b[39m(inputs)):\n\u001b[0;32m     18\u001b[0m \n\u001b[0;32m     19\u001b[0m     \u001b[38;5;66;03m# Compute new hidden state\u001b[39;00m\n\u001b[0;32m     20\u001b[0m     \u001b[38;5;66;03m# Hint: look at eq. 1\u001b[39;00m\n\u001b[0;32m     21\u001b[0m     \u001b[38;5;66;03m# tanh( U*xt  + V*h(t-1) )\u001b[39;00m\n\u001b[0;32m     22\u001b[0m     \u001b[38;5;66;03m# TODO:\u001b[39;00m\n\u001b[1;32m---> 25\u001b[0m     v1 \u001b[38;5;241m=\u001b[39m \u001b[43mnp\u001b[49m\u001b[38;5;241;43m.\u001b[39;49m\u001b[43mdot\u001b[49m\u001b[43m(\u001b[49m\u001b[43mU\u001b[49m\u001b[43m,\u001b[49m\u001b[43m \u001b[49m\u001b[43minputs\u001b[49m\u001b[43m[\u001b[49m\u001b[43mt\u001b[49m\u001b[43m]\u001b[49m\u001b[43m)\u001b[49m\n\u001b[0;32m     26\u001b[0m     v2 \u001b[38;5;241m=\u001b[39m np\u001b[38;5;241m.\u001b[39mdot(V, hidden_state)\n\u001b[0;32m     27\u001b[0m     hidden_state \u001b[38;5;241m=\u001b[39m tanh( v1 \u001b[38;5;241m+\u001b[39m v2 \u001b[38;5;241m+\u001b[39m b_hidden ) \n",
      "\u001b[1;31mKeyboardInterrupt\u001b[0m: "
     ]
    }
   ],
   "source": [
    "hidden_size = 50 # Number of dimensions in the hidden state\n",
    "vocab_size  = vocab_size # Size of the vocabulary used\n",
    "parameters = init_network(hidden_size=hidden_size, vocab_size=vocab_size)\n",
    "num_epochs = 500\n",
    "hidden_size = 50\n",
    "parameters = init_network(hidden_size=hidden_size, vocab_size=vocab_size)\n",
    "hidden_state = np.zeros((hidden_size, 1))\n",
    "training_loss, validation_loss = [], []\n",
    "min_loss = 10000\n",
    "\n",
    "for i in range(num_epochs):\n",
    "    epoch_training_loss = 0\n",
    "    epoch_validation_loss = 0\n",
    "    \n",
    "    for inputs, targets in validation_set:\n",
    "        inputs_one_hot = one_hot_encode_sequence(inputs, vocab_size, char_to_idx)\n",
    "        targets_one_hot = one_hot_encode_sequence(targets, vocab_size, char_to_idx)\n",
    "        hidden_state = np.zeros_like(hidden_state)\n",
    "        outputs, _ = forward_pass(inputs_one_hot, hidden_state, parameters)\n",
    "        loss = compute_loss(outputs, targets_one_hot)\n",
    "        epoch_validation_loss += loss\n",
    "\n",
    "    epoch_validation_loss /= len(validation_set)  \n",
    "    if epoch_validation_loss < min_loss:\n",
    "        min_loss = epoch_validation_loss \n",
    "        best_parameters = parameters\n",
    "    \n",
    "    for inputs, targets in training_set:\n",
    "        inputs_one_hot = one_hot_encode_sequence(inputs, vocab_size, char_to_idx)\n",
    "        targets_one_hot = one_hot_encode_sequence(targets, vocab_size, char_to_idx)\n",
    "\n",
    "        hidden_state = np.zeros_like(hidden_state)\n",
    "        outputs, hidden_states = forward_pass(inputs_one_hot, hidden_state, parameters)\n",
    "        loss, gradients = backward_pass(inputs_one_hot, outputs, hidden_states, targets_one_hot, parameters)\n",
    "\n",
    "        if np.isnan(loss):\n",
    "            raise ValueError('Gradients have vanished!')\n",
    "\n",
    "        parameters = gradient_descent(parameters, gradients, lr=1e-3)\n",
    "        epoch_training_loss += loss\n",
    "        \n",
    "    training_loss.append(epoch_training_loss/len(training_set))\n",
    "    validation_loss.append(epoch_validation_loss)\n",
    "    if i % 10 == 0:\n",
    "        print(f'Epoch {i}, training loss: {training_loss[-1]}, validation loss: {validation_loss[-1]} ({min_loss})')\n",
    "\n",
    "parameters = best_parameters\n",
    "\n",
    "inputs, targets = training_set[0]\n",
    "inputs_one_hot = one_hot_encode_sequence(inputs, vocab_size, char_to_idx)\n",
    "targets_one_hot = one_hot_encode_sequence(targets, vocab_size, char_to_idx)\n",
    "\n",
    "hidden_state = np.zeros((hidden_size, 1))\n",
    "outputs, hidden_states = forward_pass(inputs_one_hot, hidden_state, parameters)\n",
    "\n",
    "# Plot training and validation loss\n",
    "epoch = np.arange(len(training_loss))\n",
    "plt.figure()\n",
    "plt.plot(epoch, training_loss, 'r', label='Training loss',)\n",
    "plt.plot(epoch, validation_loss, 'b', label='Validation loss')\n",
    "plt.legend()\n",
    "plt.xlabel('Epoch'), plt.ylabel('NLL')\n",
    "plt.show()"
   ]
  },
  {
   "cell_type": "code",
   "execution_count": null,
   "metadata": {},
   "outputs": [
    {
     "name": "stdout",
     "output_type": "stream",
     "text": [
      "Test accuracy is 11.0%.\n"
     ]
    }
   ],
   "source": [
    "# Testing phase (Shakespeare)\n",
    "\n",
    "for test_input_sequence, test_target_sequence in test_set:\n",
    "    test_input = one_hot_encode_sequence(test_input_sequence, vocab_size, char_to_idx)\n",
    "    test_target = one_hot_encode_sequence(test_target_sequence, vocab_size, char_to_idx)\n",
    "\n",
    "    hidden_state = np.zeros((hidden_size, 1))\n",
    "    outputs, hidden_states = forward_pass(test_input, hidden_state, parameters)\n",
    "    preds = [idx_to_char[np.argmax(output)] for output in outputs]\n",
    "\n",
    "    accuracy = 0\n",
    "    for target, pred in zip(test_target_sequence, preds):\n",
    "        accuracy += target == pred\n",
    "    accuracy /= len(test_target_sequence)/100\n",
    "\n",
    "print(f\"Test accuracy is {np.round(accuracy)}%.\") "
   ]
  },
  {
   "cell_type": "markdown",
   "metadata": {},
   "source": [
    "# Part 3 - LSTMs"
   ]
  },
  {
   "cell_type": "markdown",
   "metadata": {},
   "source": [
    "One of the most famous challenges for RNNs is [the vanishing gradient problem](http://neuralnetworksanddeeplearning.com/chap5.html#the_vanishing_gradient_problem), where the gradient, i.e. the signal to update our weights, goes to zero due to repetetive multiplications of values <1 in the backprop (or goes to oo due to repetetive multiplications of values >1 in what's called exploding gradient). This can happen to all networks, but RNNs are far more vulnurable to it due to the long sequences of backprops through time. In this section of the lab you'll see how this issue can be addressed, and \n",
    "\n",
    "Please read through [Christopher Olah's walk through](http://colah.github.io/posts/2015-08-Understanding-LSTMs/) to understand this issue and its solutions in more detail."
   ]
  },
  {
   "cell_type": "markdown",
   "metadata": {},
   "source": [
    "![Vanilla RNN](http://colah.github.io/posts/2015-08-Understanding-LSTMs/img/LSTM3-SimpleRNN.png)\n",
    "![Terminology](http://colah.github.io/posts/2015-08-Understanding-LSTMs/img/LSTM2-notation.png)\n",
    "\n",
    "The image above represents a normal \"vanilla\" RNN, with the yellow \"tanh\" rectangle symbolising our current network. $h_t$ represents the output in this image, so as you can see there's the x->hidden state connection, hidden state update connection, and hidden state->output connection. \n",
    "\n",
    "To amend the issue of vanishing gradients, gated hidden units were introduced, which act like a highway between states to facilitate modelling long-range dependencies. Two famous solutions exist, one called \"long short-term memory\" (LSTM) and the other \"gated recurrent unit\" (GRU). Today, we're going to look a bit closer at the LSTM (don't worry though, you're using pytorch to implement it this time).\n",
    "\n",
    "The image below, fully explained in the walk through, shows the schematic of an LSTM cell. The fundamentals from our vanilla RNN are still there, namely the tanh of our input and previous hidden state, but we now have a \"cell state\", which acts as the aforementioned highway, and three \"gates\" which update this cell state.\n",
    "\n",
    "The three gates are the input gate $i$, the forget gate $f$, and the output gate $o$. They are defined as \n",
    "\\begin{equation*}\n",
    "\\begin{aligned}\n",
    "i = \\sigma ( W^i [h_{t-1}, x_t])\\\\\n",
    "f = \\sigma ( W^f [h_{t-1},x_t])\\\\\n",
    "o = \\sigma ( W^o [h_{t-1},x_t])\n",
    "\\end{aligned}\n",
    "\\tag{2}\n",
    "\\end{equation*}\n",
    "\n",
    "\n",
    "where $W^i$, $W^f$, and $W^o$ are the weight matrices applied to $h_{t-1},x_t$.\n",
    "\n",
    "![LSTM](http://colah.github.io/posts/2015-08-Understanding-LSTMs/img/LSTM3-chain.png)"
   ]
  },
  {
   "cell_type": "markdown",
   "metadata": {},
   "source": [
    "**Exercise:** Read the walk through above and explain the function of the three gates"
   ]
  },
  {
   "cell_type": "markdown",
   "metadata": {},
   "source": [
    "Write your answer here:\n",
    "\n",
    "- forget gate: determines which information from the previous cell state (C{t-1}) should be discarded and which information should be preserved for the current time step. It takes input from the previous hidden state (h{t-1}) and the current input (x_t) and produces a forget gate output (f_t) between 0 and 1, indicating the amount of information to forget.\n",
    "\n",
    "- input gate:  decides which new information should be added to the cell state. It takes input from the previous hidden state (h_{t-1}) and the current input (x_t) and produces an input gate output (i_t) between 0 and 1, indicating the amount of new information to store in the cell state.\n",
    "\n",
    "- output gate: controls the information flow from the current cell state (Ct) to the output hidden state (h_t). It takes input from the previous hidden state (h{t-1}) and the current input (x_t) and produces an output gate output (o_t) between 0 and 1, indicating how much of the cell state should be outputted.\n"
   ]
  },
  {
   "cell_type": "markdown",
   "metadata": {},
   "source": [
    "## Using an LSTM with Pytorch\n",
    "Now for your final task. Having learned how LSTMs work in theory, it's now time to put this knowledge into practice.\n",
    "\n",
    "Using the [LSTM pytorch documentations](https://pytorch.org/docs/stable/generated/torch.nn.LSTM.html), build and train an LSTM network and compare it to your self-made RNN. You won't need to import any more packages than those already imported, but you're free to use any approach as long as you can defend it during the presentation.\n",
    "\n",
    "**Exercise:** Build the LSTM network\n"
   ]
  },
  {
   "cell_type": "code",
   "execution_count": null,
   "metadata": {},
   "outputs": [],
   "source": [
    "import torch\n",
    "import torch.nn as nn\n",
    "import torch.nn.functional as F\n",
    "\n",
    "class LSTM(nn.Module):\n",
    "    def __init__(self, hidden_size = 25):\n",
    "        super(LSTM, self).__init__()\n",
    "        num_layers = 1\n",
    "        # Recurrent layer\n",
    "        # TODO:\n",
    "        self.lstm = nn.LSTM(input_size=vocab_size,\n",
    "                         hidden_size=hidden_size,\n",
    "                         num_layers=num_layers,\n",
    "                         bidirectional=False)\n",
    "        \n",
    "        # Output layer\n",
    "        self.l_out = nn.Linear(in_features=hidden_size,\n",
    "                            out_features=vocab_size,\n",
    "                            bias=False)\n",
    "        \n",
    "    def forward(self, x):\n",
    "        # RNN returns output and last hidden state\n",
    "        # TODO:\n",
    "        h0 = torch.randn(1,1,25)\n",
    "        c0 = torch.randn(1,1,25)\n",
    "        x, (h, c) = self.lstm(x, (h0, c0))\n",
    "        \n",
    "        # Flatten output for feed-forward layer\n",
    "        x = x.view(-1, self.lstm.hidden_size)\n",
    "        \n",
    "        # Output layer\n",
    "        # TODO:\n",
    "        x = self.l_out(x)\n",
    "        return x"
   ]
  },
  {
   "cell_type": "markdown",
   "metadata": {},
   "source": [
    "## Setting up the network hyperparameters"
   ]
  },
  {
   "cell_type": "code",
   "execution_count": null,
   "metadata": {},
   "outputs": [
    {
     "name": "stdout",
     "output_type": "stream",
     "text": [
      "LSTM(\n",
      "  (lstm): LSTM(36, 25)\n",
      "  (l_out): Linear(in_features=25, out_features=36, bias=False)\n",
      ")\n"
     ]
    }
   ],
   "source": [
    "# Initialise our network\n",
    "model = LSTM()\n",
    "print(model)\n",
    "min_LSTM_loss = 10000\n",
    "\n",
    "# Store training and validation loss\n",
    "training_loss, validation_loss = [], []\n",
    "\n",
    "# Define a loss function and optimizer for this problem\n",
    "criterion = nn.CrossEntropyLoss()\n",
    "optimizer = torch.optim.Adam(model.parameters(), lr=3e-3)\n",
    "# A way to get learning rate decay\n",
    "scheduler = torch.optim.lr_scheduler.StepLR(optimizer, step_size=30, gamma=0.9)"
   ]
  },
  {
   "cell_type": "markdown",
   "metadata": {},
   "source": [
    "## Train the network\n",
    "**Exercise:** Finish the training code until you have at least 25% accuracy. If you're willing to train for a long time, feel free to use more data and bigger models."
   ]
  },
  {
   "cell_type": "code",
   "execution_count": null,
   "metadata": {},
   "outputs": [
    {
     "name": "stdout",
     "output_type": "stream",
     "text": [
      "Epoch 0, training loss: 2.2251026749610903, validation loss: 2.4607053279876707\n",
      "Epoch 5, training loss: 2.1521547242999075, validation loss: 2.449364972114563\n",
      "Epoch 10, training loss: 2.086623763293028, validation loss: 2.4590118646621706\n",
      "Epoch 15, training loss: 2.0325347408652306, validation loss: 2.4666945934295654\n",
      "Epoch 20, training loss: 1.9808524906635285, validation loss: 2.474109578132629\n",
      "\n",
      "Input sequence:\n",
      "['f', 'i', 'r', 's', 't', 'c', 'i', 't', 'i', 'z', 'e', 'n', 'b', 'e', 'f', 'o', 'r', 'e', 'w', 'e', 'p', 'r', 'o', 'c', 'e', 'e', 'd', 'a', 'n', 'y', 'f', 'u', 'r', 't', 'h', 'e', 'r', 'h', 'e', 'a', 'r', 'm', 'e', 's', 'p', 'e', 'a', 'k']\n",
      "\n",
      "Target sequence:\n",
      "['i', 'r', 's', 't', 'c', 'i', 't', 'i', 'z', 'e', 'n', 'b', 'e', 'f', 'o', 'r', 'e', 'w', 'e', 'p', 'r', 'o', 'c', 'e', 'e', 'd', 'a', 'n', 'y', 'f', 'u', 'r', 't', 'h', 'e', 'r', 'h', 'e', 'a', 'r', 'm', 'e', 's', 'p', 'e', 'a', 'k', 'EOS']\n",
      "\n",
      "Predicted sequence:\n",
      "['i', 'r', 's', 't', 'i', 'i', 't', 'i', 'z', 'e', 'n', 'o', 'e', 'r', 'o', 'r', 's', 't', 'h', 'r', 'r', 'e', 'u', 'i', 'r', 'r', 'o', 'r', 'd', 'o', 'o', 'r', 's', 'h', 'e', 's', 'e', 'e', 's', 'n', 'e', 'a', 's', 't', 'e', 'r', 't', 'e']\n"
     ]
    },
    {
     "data": {
      "image/png": "[encoded data removed]",
      "text/plain": [
       "<Figure size 640x480 with 1 Axes>"
      ]
     },
     "metadata": {},
     "output_type": "display_data"
    }
   ],
   "source": [
    "# Hyper-parameters\n",
    "num_epochs = 25\n",
    "\n",
    "import matplotlib.pyplot as plt\n",
    "%matplotlib inline\n",
    "\n",
    "# For each epoch\n",
    "for i in range(num_epochs):\n",
    "    \n",
    "    # Track loss\n",
    "    epoch_training_loss = 0\n",
    "    epoch_validation_loss = 0\n",
    "    \n",
    "    model.eval()\n",
    "        \n",
    "    # For each sentence in validation set\n",
    "    for inputs, targets in validation_set:\n",
    "        \n",
    "        # One-hot encode input and target sequence\n",
    "        inputs_one_hot = one_hot_encode_sequence(inputs, vocab_size, char_to_idx)\n",
    "        targets_idx = [char_to_idx[char] for char in targets]\n",
    "        \n",
    "        # Convert input to tensor\n",
    "        inputs_one_hot = torch.Tensor(inputs_one_hot)\n",
    "        inputs_one_hot = inputs_one_hot.permute(0, 2, 1)\n",
    "        \n",
    "        # Convert target to tensor\n",
    "        targets_idx = torch.LongTensor(targets_idx)\n",
    "        \n",
    "        # Forward pass\n",
    "        # TODO:\n",
    "        outputs = model.forward(inputs_one_hot)\n",
    "        \n",
    "        # Compute loss\n",
    "        # TODO:\n",
    "        loss = criterion(outputs, targets_idx)\n",
    "\n",
    "        if loss<min_LSTM_loss:\n",
    "            torch.save(model, 'best_model.pt')\n",
    "        \n",
    "        # Update loss\n",
    "        epoch_validation_loss += loss.detach().numpy()\n",
    "    \n",
    "    model.train()\n",
    "    \n",
    "    # For each sentence in training set\n",
    "    for inputs, targets in training_set:\n",
    "        \n",
    "        # One-hot encode input and target sequence\n",
    "        inputs_one_hot = one_hot_encode_sequence(inputs, vocab_size, char_to_idx)\n",
    "        targets_idx = [char_to_idx[char] for char in targets]\n",
    "        \n",
    "        # Convert input to tensor\n",
    "        inputs_one_hot = torch.Tensor(inputs_one_hot)\n",
    "        inputs_one_hot = inputs_one_hot.permute(0, 2, 1)\n",
    "        \n",
    "        # Convert target to tensor\n",
    "        targets_idx = torch.LongTensor(targets_idx)\n",
    "        \n",
    "        # Forward pass\n",
    "        # TODO:\n",
    "        outputs = model.forward(inputs_one_hot)\n",
    "        \n",
    "        # Compute loss\n",
    "        # TODO:\n",
    "        loss = criterion(outputs, targets_idx)\n",
    "        \n",
    "        # Reset gradients\n",
    "        # TODO:\n",
    "        optimizer.zero_grad()\n",
    "\n",
    "        # Compute gradients\n",
    "        # TODO:\n",
    "        loss.backward()\n",
    "\n",
    "        # Update weights\n",
    "        # TODO:\n",
    "        optimizer.step()\n",
    "\n",
    "        # Update learning rate (advanced technique, can be ignored)\n",
    "        scheduler.step()\n",
    "        \n",
    "        # Update loss\n",
    "        epoch_training_loss += loss.detach().numpy()\n",
    "        \n",
    "    # Save loss for plot\n",
    "    training_loss.append(epoch_training_loss/len(training_set))\n",
    "    validation_loss.append(epoch_validation_loss/len(validation_set))\n",
    "\n",
    "    # Print loss every 5 epochs\n",
    "    if i % 5 == 0:\n",
    "        print(f'Epoch {i}, training loss: {training_loss[-1]}, validation loss: {validation_loss[-1]}')\n",
    "\n",
    "# Plot training and validation loss\n",
    "epoch = np.arange(len(training_loss))\n",
    "\n",
    "# Get first sentence in training set\n",
    "inputs, targets = training_set[0]\n",
    "\n",
    "# One-hot encode input and target sequence\n",
    "inputs_one_hot = one_hot_encode_sequence(inputs, vocab_size, char_to_idx)\n",
    "targets_idx = [char_to_idx[char] for char in targets]\n",
    "\n",
    "# Convert input to tensor\n",
    "inputs_one_hot = torch.Tensor(inputs_one_hot)\n",
    "inputs_one_hot = inputs_one_hot.permute(0, 2, 1)\n",
    "\n",
    "# Convert target to tensor\n",
    "targets_idx = torch.LongTensor(targets_idx)\n",
    "\n",
    "# Forward pass\n",
    "# TODO:\n",
    "\n",
    "best_model = torch.load('best_model.pt')\n",
    "outputs = best_model(inputs_one_hot).data.numpy()\n",
    "\n",
    "print('\\nInput sequence:')\n",
    "print(inputs)\n",
    "\n",
    "print('\\nTarget sequence:')\n",
    "print(targets)\n",
    "\n",
    "preds = [idx_to_char[np.argmax(output)] for output in outputs]\n",
    "print('\\nPredicted sequence:')\n",
    "print(preds)\n",
    "\n",
    "plt.figure()\n",
    "plt.plot(epoch, training_loss, 'r', label='Training loss',)\n",
    "plt.plot(epoch, validation_loss, 'b', label='Validation loss')\n",
    "plt.legend()\n",
    "plt.xlabel('Epoch'), plt.ylabel('NLL')\n",
    "plt.show()"
   ]
  },
  {
   "cell_type": "code",
   "execution_count": null,
   "metadata": {},
   "outputs": [
    {
     "name": "stdout",
     "output_type": "stream",
     "text": [
      "\n",
      "Input sequence:\n",
      "[\"'\", 't', 'h', 'e', 'y', 'h', 'a', 'v', 'e', 'p', 'r', 'e', 's', 's', \"'\", 'd', 'a', 'p', 'o', 'w', 'e', 'r', 'b', 'u', 't', 'i', 't', 'i', 's', 'n', 'o', 't', 'k', 'n', 'o', 'w', 'n', 'w', 'h', 'e', 't', 'h', 'e', 'r', 'f', 'o', 'r', 'e', 'a', 's', 't', 'o', 'r', 'w', 'e', 's', 't', 't', 'h', 'e', 'd', 'e', 'a', 'r', 't', 'h', 'i', 's', 'g', 'r', 'e', 'a', 't', ';', 't', 'h', 'e', 'p', 'e', 'o', 'p', 'l', 'e', 'm', 'u', 't', 'i', 'n', 'o', 'u', 's', ';', 'a', 'n', 'd', 'i', 't', 'i', 's', 'r', 'u', 'm', 'o', 'u', 'r', \"'\", 'd', 'c', 'o', 'm', 'i', 'n', 'i', 'u', 's', 'm', 'a', 'r', 'c', 'i', 'u', 's', 'y', 'o', 'u', 'r', 'o', 'l', 'd', 'e', 'n', 'e', 'm', 'y', 'w', 'h', 'o', 'i', 's', 'o', 'f', 'r', 'o', 'm', 'e', 'w', 'o', 'r', 's', 'e', 'h', 'a', 't', 'e', 'd', 't', 'h', 'a', 'n', 'o', 'f', 'y', 'o', 'u', 'a', 'n', 'd', 't', 'i', 't', 'u', 's', 'l', 'a', 'r', 't', 'i', 'u', 's', 'a', 'm', 'o', 's', 't', 'v', 'a', 'l', 'i', 'a', 'n', 't', 'r', 'o', 'm', 'a', 'n', 't', 'h', 'e', 's', 'e', 't', 'h', 'r', 'e', 'e', 'l', 'e', 'a', 'd', 'o', 'n', 't', 'h', 'i', 's', 'p', 'r', 'e', 'p', 'a', 'r', 'a', 't', 'i', 'o', 'n', 'w', 'h', 'i', 't', 'h', 'e', 'r', \"'\", 't', 'i', 's', 'b', 'e', 'n', 't', 'm', 'o', 's', 't', 'l', 'i', 'k', 'e', 'l', 'y', \"'\", 't', 'i', 's', 'f', 'o', 'r', 'y', 'o', 'u', 'c', 'o', 'n', 's', 'i', 'd', 'e', 'r', 'o', 'f', 'i', 't']\n",
      "\n",
      "Target sequence:\n",
      "['t', 'h', 'e', 'y', 'h', 'a', 'v', 'e', 'p', 'r', 'e', 's', 's', \"'\", 'd', 'a', 'p', 'o', 'w', 'e', 'r', 'b', 'u', 't', 'i', 't', 'i', 's', 'n', 'o', 't', 'k', 'n', 'o', 'w', 'n', 'w', 'h', 'e', 't', 'h', 'e', 'r', 'f', 'o', 'r', 'e', 'a', 's', 't', 'o', 'r', 'w', 'e', 's', 't', 't', 'h', 'e', 'd', 'e', 'a', 'r', 't', 'h', 'i', 's', 'g', 'r', 'e', 'a', 't', ';', 't', 'h', 'e', 'p', 'e', 'o', 'p', 'l', 'e', 'm', 'u', 't', 'i', 'n', 'o', 'u', 's', ';', 'a', 'n', 'd', 'i', 't', 'i', 's', 'r', 'u', 'm', 'o', 'u', 'r', \"'\", 'd', 'c', 'o', 'm', 'i', 'n', 'i', 'u', 's', 'm', 'a', 'r', 'c', 'i', 'u', 's', 'y', 'o', 'u', 'r', 'o', 'l', 'd', 'e', 'n', 'e', 'm', 'y', 'w', 'h', 'o', 'i', 's', 'o', 'f', 'r', 'o', 'm', 'e', 'w', 'o', 'r', 's', 'e', 'h', 'a', 't', 'e', 'd', 't', 'h', 'a', 'n', 'o', 'f', 'y', 'o', 'u', 'a', 'n', 'd', 't', 'i', 't', 'u', 's', 'l', 'a', 'r', 't', 'i', 'u', 's', 'a', 'm', 'o', 's', 't', 'v', 'a', 'l', 'i', 'a', 'n', 't', 'r', 'o', 'm', 'a', 'n', 't', 'h', 'e', 's', 'e', 't', 'h', 'r', 'e', 'e', 'l', 'e', 'a', 'd', 'o', 'n', 't', 'h', 'i', 's', 'p', 'r', 'e', 'p', 'a', 'r', 'a', 't', 'i', 'o', 'n', 'w', 'h', 'i', 't', 'h', 'e', 'r', \"'\", 't', 'i', 's', 'b', 'e', 'n', 't', 'm', 'o', 's', 't', 'l', 'i', 'k', 'e', 'l', 'y', \"'\", 't', 'i', 's', 'f', 'o', 'r', 'y', 'o', 'u', 'c', 'o', 'n', 's', 'i', 'd', 'e', 'r', 'o', 'f', 'i', 't', 'EOS']\n",
      "\n",
      "Predicted sequence:\n",
      "['s', 'h', 'i', 's', 'o', 'e', 'v', 'e', 'i', 'r', 'e', 'i', 't', 'a', 'r', 'e', 'n', 'n', 'u', 'h', 'l', 's', 'e', 's', 'h', 's', 'h', 's', 'e', 'o', 'w', 'h', 'e', 'o', 'w', 'e', 'o', 'i', 'a', 's', 'h', 'e', 'r', 'e', 'i', 'r', 's', 'd', 'n', 'e', 'h', 'n', 'm', 'e', 'r', 't', 'h', 'h', 'e', 'r', 'i', 'r', 'k', 'e', 'h', 'e', 's', 'e', 'o', 'e', 's', 't', 'h', 'h', 'h', 'e', 'r', 'e', 'a', 'r', 'l', 'e', 'EOS', 'a', 'r', 't', 'n', 's', 'u', 's', 't', 'a', 'r', 'd', 't', 'n', 'i', 't', 'e', 'e', 's', 'a', 'n', 'r', 't', 't', 'EOS', 'o', 'u', 'e', 'n', 'i', 'u', 's', 't', 'a', 'r', 'c', 'i', 'u', 's', 't', 'o', 'u', 'r', 'u', 'u', 'v', 'e', 'd', 't', 'n', 'a', 's', 'h', 'a', 'u', 'n', 'e', 'n', 't', 'e', 'u', 'e', 'n', 'h', 'r', 's', 't', 'r', 'a', 't', 'h', 'r', 'o', 'h', 'e', 't', 'd', 'u', 'f', 'o', 'u', 'r', 'l', 'd', 'i', 'h', 'l', 'h', 's', 't', 'a', 'r', 'c', 'i', 's', 's', 't', 'r', 'e', 'n', 't', 'h', 'e', 'n', 'e', 's', 'n', 't', 'h', 'u', 'u', 'a', 'r', 'c', 'i', 'i', 's', 'h', 'r', 'h', 'e', 'i', 'w', 's', 'a', 'n', 'r', 'e', 'u', 'e', 'h', 'e', 's', 'e', 'o', 'e', 'i', 'e', 'r', 's', 't', 'h', 's', 'u', 'e', 'e', 'a', 's', 'h', 'e', 'r', 'e', 't', 't', 'n', 't', 'o', 'a', 'o', 't', 'a', 'n', 'e', 'h', 'e', 't', 'e', 's', 'a', 'o', 't', 'h', 's', 'e', 'o', 'r', 'e', 'o', 'u', 'r', 'o', 'n', 'd', 't', 'n', 's', 'EOS', 'o', 'u', 'f', 'r', 'h']\n",
      "Test accuracy is 32.0%.\n"
     ]
    }
   ],
   "source": [
    "best_model = LSTM()\n",
    "best_model = torch.load('best_model.pt')\n",
    "\n",
    "# Get first sentence in test set\n",
    "test_input_sequence, test_target_sequence = test_set[0]\n",
    "\n",
    "# One-hot encode input and target sequence\n",
    "inputs_one_hot = one_hot_encode_sequence(test_input_sequence, vocab_size, char_to_idx)\n",
    "targets_idx = [char_to_idx[char] for char in test_target_sequence]\n",
    "\n",
    "# Convert input to tensor\n",
    "inputs_one_hot = torch.Tensor(inputs_one_hot)\n",
    "inputs_one_hot = inputs_one_hot.permute(0, 2, 1)\n",
    "\n",
    "# Convert target to tensor\n",
    "targets_idx = torch.LongTensor(targets_idx)\n",
    "\n",
    "# Forward pass\n",
    "# TODO:\n",
    "outputs = best_model(inputs_one_hot).data.numpy()\n",
    "\n",
    "print('\\nInput sequence:')\n",
    "print(test_input_sequence)\n",
    "\n",
    "print('\\nTarget sequence:')\n",
    "print(test_target_sequence)\n",
    "\n",
    "preds = [idx_to_char[np.argmax(output)] for output in outputs]\n",
    "print('\\nPredicted sequence:')\n",
    "print(preds)\n",
    "\n",
    "accuracy = 0\n",
    "for target, pred in zip(test_target_sequence, preds):\n",
    "    accuracy += target == pred\n",
    "accuracy /= len(test_target_sequence)/100\n",
    "\n",
    "print(f\"Test accuracy is {np.round(accuracy)}%.\") "
   ]
  },
  {
   "cell_type": "markdown",
   "metadata": {},
   "source": [
    "## Final comments (extracurricular)\n",
    "Now you've seen how RNNs work and implemented a very simple causal language model. If you want to improve it, besides grabbing more data and building bigger models, you could also improve on character-based tokens to n_grams or subwords; make your word embeddings (hidden state) contextual, upgrade your model to a transformer or a state space model, and suddenly you've designed GPT, BERT, T5, LLaMA, or any other \"modern\" large language model. Though RNNs aren't the most popular due to the dominance of the transformer, models such as state space models, which exist inbetween RNNs and transformers, show that much innovation is still possible by merging these two frameworks."
   ]
  },
  {
   "cell_type": "code",
   "execution_count": null,
   "metadata": {},
   "outputs": [],
   "source": []
  }
 ],
 "metadata": {
  "kernelspec": {
   "display_name": "Python 3 (ipykernel)",
   "language": "python",
   "name": "python3"
  },
  "language_info": {
   "codemirror_mode": {
    "name": "ipython",
    "version": 3
   },
   "file_extension": ".py",
   "mimetype": "text/x-python",
   "name": "python",
   "nbconvert_exporter": "python",
   "pygments_lexer": "ipython3",
   "version": "3.11.8"
  }
 },
 "nbformat": 4,
 "nbformat_minor": 4
}
